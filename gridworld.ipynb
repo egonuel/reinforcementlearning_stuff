{
 "cells": [
  {
   "cell_type": "code",
   "execution_count": 1,
   "metadata": {},
   "outputs": [],
   "source": [
    "%matplotlib inline\n",
    "\n",
    "import matplotlib\n",
    "import numpy as np\n",
    "import matplotlib.pyplot as plt"
   ]
  },
  {
   "cell_type": "code",
   "execution_count": 2,
   "metadata": {},
   "outputs": [],
   "source": [
    "# parameters of example 3.5\n",
    "grid_width = 5\n",
    "grid_height = 5\n",
    "\n",
    "actions= np.array([[-1,0], [1, 0], [0, -1], [0, 1]])\n",
    "state_A = np.array([1, 0])\n",
    "state_B = np.array([3, 0])\n",
    "state_A_prime = np.array([1, grid_height-1])\n",
    "state_B_prime = np.array([3, 2])\n",
    "\n",
    "reward_offset = 0\n",
    "reward_any = 0 + reward_offset\n",
    "reward_out = -1 + reward_offset\n",
    "reward_A = 10 + reward_offset\n",
    "reward_B = 5 + reward_offset\n",
    "gamma = 0.9\n",
    "prob_policy = 1. / len(actions)\n",
    "\n",
    "theta = 1e-3"
   ]
  },
  {
   "cell_type": "code",
   "execution_count": 3,
   "metadata": {},
   "outputs": [
    {
     "name": "stdout",
     "output_type": "stream",
     "text": [
      "converged after 96 timesteps\n",
      "[[21.97690153 24.41877948 21.97690153 19.41877948 17.47690153]\n",
      " [19.77884703 21.97690153 19.77884703 17.80096232 16.02086609]\n",
      " [17.80096232 19.77884703 17.80096232 16.02086609 14.41877948]\n",
      " [16.02086609 17.80096232 16.02086609 14.41877948 12.97690153]\n",
      " [14.41877948 16.02086609 14.41877948 12.97690153 11.67884703]]\n"
     ]
    }
   ],
   "source": [
    "# figure 3.5\n",
    "num_steps = 100\n",
    "values_prime = np.zeros([grid_height, grid_width])\n",
    "values = np.zeros([grid_height, grid_width])\n",
    "for step in range(num_steps):\n",
    "    for y in range(grid_height):\n",
    "        for x in range(grid_width):\n",
    "            state = np.array([x, y])\n",
    "            values_actions = np.zeros(actions.shape[0])\n",
    "            for a, action in enumerate(actions):\n",
    "                state_prime = state + action\n",
    "                reward = reward_any\n",
    "                if np.all(state == state_A):\n",
    "                    state_prime = state_A_prime\n",
    "                    reward = reward_A\n",
    "                elif np.all(state == state_B):\n",
    "                    state_prime = state_B_prime\n",
    "                    reward = reward_B\n",
    "                elif np.any(state_prime < np.array([0, 0])) or np.any(state_prime >= np.array([grid_width, grid_height])):\n",
    "                    state_prime = state\n",
    "                    reward = reward_out\n",
    "                values_actions[a] = reward + gamma * values[state_prime[1], state_prime[0]]\n",
    "            values_prime[y, x] = np.max(values_actions)\n",
    "    delta = np.linalg.norm(values_prime - values)\n",
    "    values = np.copy(values_prime)\n",
    "    if delta < theta:\n",
    "        print('converged after {} timesteps'.format(step))\n",
    "        break\n",
    "    \n",
    "print(values)"
   ]
  },
  {
   "cell_type": "code",
   "execution_count": 11,
   "metadata": {},
   "outputs": [
    {
     "name": "stdout",
     "output_type": "stream",
     "text": [
      "converged after 39 timesteps\n",
      "[[ 3.31090387  8.79118019  4.42945778  5.32416158  1.49394036]\n",
      " [ 1.52349102  2.99419728  2.25197626  1.90936483  0.54916766]\n",
      " [ 0.05272354  0.74004854  0.67495194  0.35998538 -0.40136713]\n",
      " [-0.97168967 -0.43361477 -0.35303741 -0.58379676 -1.18128939]\n",
      " [-1.85579583 -1.34334742 -1.22741763 -1.42110288 -1.97338525]]\n"
     ]
    }
   ],
   "source": [
    "# example 3.5\n",
    "def state_value_function(state):\n",
    "    v_new = 0\n",
    "    for action in actions:\n",
    "        state_prime = state + action\n",
    "        reward = reward_any\n",
    "        if np.all(state == state_A):\n",
    "            state_prime = state_A_prime\n",
    "            reward = reward_A\n",
    "        elif np.all(state == state_B):\n",
    "            state_prime = state_B_prime\n",
    "            reward = reward_B\n",
    "        elif np.any(state_prime < np.array([0, 0])) or np.any(state_prime >= np.array([grid_width, grid_height])):\n",
    "            state_prime = state\n",
    "            reward = reward_out\n",
    "        v_new += prob_policy * (reward + gamma * values[state_prime[1], state_prime[0]])\n",
    "    return v_new\n",
    "\n",
    "num_steps = 100\n",
    "values = np.zeros([grid_height, grid_width])\n",
    "for step in range(num_steps):\n",
    "    values_prime = np.zeros([grid_height, grid_width])\n",
    "    for y in range(grid_height):\n",
    "        for x in range(grid_width):\n",
    "            state = np.array([x, y])\n",
    "            values_prime[y, x] = state_value_function(state)\n",
    "    delta = np.linalg.norm(values_prime - values)\n",
    "    if delta < theta:\n",
    "        print('converged after {} timesteps'.format(step))\n",
    "        break\n",
    "    values = values_prime\n",
    "    \n",
    "print(values)\n",
    "values_35 = values\n"
   ]
  },
  {
   "cell_type": "code",
   "execution_count": 12,
   "metadata": {},
   "outputs": [
    {
     "name": "stdout",
     "output_type": "stream",
     "text": [
      "converged after 29 timesteps\n",
      "[[ 3.31359559  8.79292942  4.43113177  5.32556099  1.4955287 ]\n",
      " [ 1.52582318  2.99591435  2.2534199   1.91064941  0.55045095]\n",
      " [ 0.05486787  0.74165922  0.67626363  0.36114423 -0.40025498]\n",
      " [-0.96965064 -0.43208514 -0.35180898 -0.58272448 -1.18027658]\n",
      " [-1.85380443 -1.34185832 -1.22622928 -1.42007309 -1.97241846]]\n"
     ]
    }
   ],
   "source": [
    "# example 3.5 with in-place update\n",
    "def state_value_function(state):\n",
    "    v_new = 0\n",
    "    for action in actions:\n",
    "        state_prime = state + action\n",
    "        reward = reward_any\n",
    "        if np.all(state == state_A):\n",
    "            state_prime = state_A_prime\n",
    "            reward = reward_A\n",
    "        elif np.all(state == state_B):\n",
    "            state_prime = state_B_prime\n",
    "            reward = reward_B\n",
    "        elif np.any(state_prime < np.array([0, 0])) or np.any(state_prime >= np.array([grid_width, grid_height])):\n",
    "            state_prime = state\n",
    "            reward = reward_out\n",
    "        v_new += prob_policy * (reward + gamma * values[state_prime[1], state_prime[0]])\n",
    "    return v_new   \n",
    "\n",
    "num_steps = 100\n",
    "values = np.zeros([grid_height, grid_width])\n",
    "for step in range(num_steps):\n",
    "    delta = 0.0\n",
    "    for y in range(grid_height):\n",
    "        for x in range(grid_width):\n",
    "            state = np.array([x, y])\n",
    "            v_current = values[y, x]\n",
    "            v_new = state_value_function(state)\n",
    "            values[y, x] = v_new\n",
    "            delta = max(delta, np.linalg.norm(v_new - v_current))\n",
    "    if delta < theta:\n",
    "        print('converged after {} timesteps'.format(step))\n",
    "        break\n",
    "    \n",
    "print(values)\n",
    "values_35_ip = values"
   ]
  },
  {
   "cell_type": "code",
   "execution_count": 13,
   "metadata": {},
   "outputs": [
    {
     "name": "stdout",
     "output_type": "stream",
     "text": [
      "0.00791342367110317\n"
     ]
    }
   ],
   "source": [
    "# compare values from 3.5 with 3.5 with in-place update\n",
    "delta = np.linalg.norm(values_35 - values_35_ip)\n",
    "print(delta)"
   ]
  },
  {
   "cell_type": "code",
   "execution_count": 33,
   "metadata": {},
   "outputs": [
    {
     "name": "stdout",
     "output_type": "stream",
     "text": [
      "step  0\n",
      "[[0. 0. 0. 0.]\n",
      " [0. 0. 0. 0.]\n",
      " [0. 0. 0. 0.]\n",
      " [0. 0. 0. 0.]]\n",
      "step  1\n",
      "[[ 0. -1. -1. -1.]\n",
      " [-1. -1. -1. -1.]\n",
      " [-1. -1. -1. -1.]\n",
      " [-1. -1. -1.  0.]]\n",
      "step  2\n",
      "[[ 0.  -1.8 -2.  -2. ]\n",
      " [-1.8 -2.  -2.  -2. ]\n",
      " [-2.  -2.  -2.  -1.8]\n",
      " [-2.  -2.  -1.8  0. ]]\n",
      "step  3\n",
      "[[ 0.  -2.4 -2.9 -3. ]\n",
      " [-2.4 -2.9 -3.  -2.9]\n",
      " [-2.9 -3.  -2.9 -2.4]\n",
      " [-3.  -2.9 -2.4  0. ]]\n",
      "step  10\n",
      "[[ 0.  -6.1 -8.4 -9. ]\n",
      " [-6.1 -7.7 -8.4 -8.4]\n",
      " [-8.4 -8.4 -7.7 -6.1]\n",
      " [-9.  -8.4 -6.1  0. ]]\n",
      "converged after 130 timesteps\n",
      "final values\n",
      "[[  0. -14. -20. -22.]\n",
      " [-14. -18. -20. -20.]\n",
      " [-20. -20. -18. -14.]\n",
      " [-22. -20. -14.   0.]]\n"
     ]
    }
   ],
   "source": [
    "# example 4.1\n",
    "grid_width = 4\n",
    "grid_height = 4\n",
    "actions= np.array([[-1,0], [1, 0], [0, -1], [0, 1]])\n",
    "r_any = -1\n",
    "terminal_states = np.array([[0, 0], [grid_width - 1, grid_height - 1]])\n",
    "\n",
    "num_steps = 1000\n",
    "in_place = False\n",
    "print_values_at = [1, 2, 3, 10]\n",
    "\n",
    "gamma = 1 # undiscounted task\n",
    "def state_value_function(state):\n",
    "    value = 0\n",
    "    for action in actions:\n",
    "        state_prime = state + action\n",
    "        reward = r_any\n",
    "        if np.any(state_prime < np.array([0, 0])) or np.any(state_prime >= np.array([grid_width, grid_height])):\n",
    "            state_prime = state\n",
    "        value += prob_policy * (reward + gamma * values[state_prime[1], state_prime[0]])\n",
    "    return value   \n",
    "\n",
    "values = np.zeros([grid_height, grid_width])\n",
    "print('step ', 0)\n",
    "print(np.round(values, 1))\n",
    "for step in range(num_steps):\n",
    "    delta = 0.0\n",
    "    values_prime = np.zeros([grid_height, grid_width]) if not in_place else values\n",
    "    for y in range(grid_height):\n",
    "        for x in range(grid_width):\n",
    "            state = np.array([x, y])\n",
    "            if np.any(np.all(terminal_states == state, axis = 1)):\n",
    "                continue\n",
    "            v_current = values[y, x]\n",
    "            v_new = state_value_function(state)\n",
    "            values_prime[y, x] = v_new\n",
    "            delta = max(delta, np.linalg.norm(v_new - v_current))\n",
    "    values = np.copy(values_prime)\n",
    "    if step + 1 in print_values_at:\n",
    "        print('step ', step + 1)\n",
    "        print(np.round(values, 1))\n",
    "    if delta < theta:\n",
    "        print('converged after {} timesteps'.format(step))\n",
    "        break\n",
    "print('final values')\n",
    "print(np.round(values, 1))\n"
   ]
  },
  {
   "cell_type": "code",
   "execution_count": null,
   "metadata": {},
   "outputs": [],
   "source": []
  }
 ],
 "metadata": {
  "kernelspec": {
   "display_name": "Python [conda env:dev_pytorch]",
   "language": "python",
   "name": "conda-env-dev_pytorch-py"
  },
  "language_info": {
   "codemirror_mode": {
    "name": "ipython",
    "version": 3
   },
   "file_extension": ".py",
   "mimetype": "text/x-python",
   "name": "python",
   "nbconvert_exporter": "python",
   "pygments_lexer": "ipython3",
   "version": "3.6.7"
  }
 },
 "nbformat": 4,
 "nbformat_minor": 2
}

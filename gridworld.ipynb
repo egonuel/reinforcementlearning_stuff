{
 "cells": [
  {
   "cell_type": "code",
   "execution_count": 90,
   "metadata": {},
   "outputs": [],
   "source": [
    "%matplotlib inline\n",
    "\n",
    "import matplotlib\n",
    "import numpy as np\n",
    "import matplotlib.pyplot as plt"
   ]
  },
  {
   "cell_type": "code",
   "execution_count": 91,
   "metadata": {},
   "outputs": [],
   "source": [
    "grid_width = 5\n",
    "grid_height = 5\n",
    "\n",
    "actions= np.array([[-1,0], [1, 0], [0, -1], [0, 1]])\n",
    "state_A = np.array([1, 0])\n",
    "state_B = np.array([3, 0])\n",
    "state_A_prime = np.array([1, grid_height-1])\n",
    "state_B_prime = np.array([3, 2])\n",
    "\n",
    "reward_offset = 0\n",
    "reward_any = 0 + reward_offset\n",
    "reward_out = -1 + reward_offset\n",
    "reward_A = 10 + reward_offset\n",
    "reward_B = 5 + reward_offset\n",
    "gamma = 0.9\n",
    "prob_policy = 1. / len(actions)\n",
    "\n",
    "n_limit = 1e-3"
   ]
  },
  {
   "cell_type": "code",
   "execution_count": 104,
   "metadata": {},
   "outputs": [
    {
     "name": "stdout",
     "output_type": "stream",
     "text": [
      "converged after 96 timesteps\n",
      "[[21.97690153 24.41877948 21.97690153 19.41877948 17.47690153]\n",
      " [19.77884703 21.97690153 19.77884703 17.80096232 16.02086609]\n",
      " [17.80096232 19.77884703 17.80096232 16.02086609 14.41877948]\n",
      " [16.02086609 17.80096232 16.02086609 14.41877948 12.97690153]\n",
      " [14.41877948 16.02086609 14.41877948 12.97690153 11.67884703]]\n"
     ]
    }
   ],
   "source": [
    "# figure 3.5\n",
    "num_steps = 100\n",
    "values_prime = np.zeros([grid_height, grid_width])\n",
    "values = np.zeros([grid_height, grid_width])\n",
    "for step in range(num_steps):\n",
    "    for y in range(grid_height):\n",
    "        for x in range(grid_width):\n",
    "            state = np.array([x, y])\n",
    "            values_actions = np.zeros(actions.shape[0])\n",
    "            for a, action in enumerate(actions):\n",
    "                state_prime = state + action\n",
    "                reward = reward_any\n",
    "                if np.all(state == state_A):\n",
    "                    state_prime = state_A_prime\n",
    "                    reward = reward_A\n",
    "                elif np.all(state == state_B):\n",
    "                    state_prime = state_B_prime\n",
    "                    reward = reward_B\n",
    "                elif np.any(state_prime < np.array([0, 0])) or np.any(state_prime >= np.array([grid_width, grid_height])):\n",
    "                    state_prime = state\n",
    "                    reward = reward_out\n",
    "                values_actions[a] = reward + gamma * values[state_prime[1], state_prime[0]]\n",
    "            values_prime[y, x] = np.max(values_actions)\n",
    "    n = np.linalg.norm(values_prime - values)\n",
    "    values = np.copy(values_prime)\n",
    "    if n < n_limit:\n",
    "        print('converged after {} timesteps'.format(step))\n",
    "        break\n",
    "    \n",
    "print(values)"
   ]
  },
  {
   "cell_type": "code",
   "execution_count": 99,
   "metadata": {},
   "outputs": [
    {
     "name": "stdout",
     "output_type": "stream",
     "text": [
      "converged after 39 timesteps\n",
      "[[ 3.31090387  8.79118019  4.42945778  5.32416158  1.49394036]\n",
      " [ 1.52349102  2.99419728  2.25197626  1.90936483  0.54916766]\n",
      " [ 0.05272354  0.74004854  0.67495194  0.35998538 -0.40136713]\n",
      " [-0.97168967 -0.43361477 -0.35303741 -0.58379676 -1.18128939]\n",
      " [-1.85579583 -1.34334742 -1.22741763 -1.42110288 -1.97338525]]\n"
     ]
    }
   ],
   "source": [
    "# example 3.5\n",
    "num_steps = 100\n",
    "values = np.zeros([grid_height, grid_width])\n",
    "for step in range(num_steps):\n",
    "    values_prime = np.zeros([grid_height, grid_width])\n",
    "    for y in range(grid_height):\n",
    "        for x in range(grid_width):\n",
    "            state = np.array([x, y])\n",
    "            for action in actions:\n",
    "                state_prime = state + action\n",
    "                reward = reward_any\n",
    "                if np.all(state == state_A):\n",
    "                    state_prime = state_A_prime\n",
    "                    reward = reward_A\n",
    "                elif np.all(state == state_B):\n",
    "                    state_prime = state_B_prime\n",
    "                    reward = reward_B\n",
    "                elif np.any(state_prime < np.array([0, 0])) or np.any(state_prime >= np.array([grid_width, grid_height])):\n",
    "                    state_prime = state\n",
    "                    reward = reward_out\n",
    "                values_prime[y, x] += prob_policy * (reward + gamma * values[state_prime[1], state_prime[0]])\n",
    "    n = np.linalg.norm(values_prime - values)\n",
    "    if n < n_limit:\n",
    "        print('converged after {} timesteps'.format(step))\n",
    "        break\n",
    "    values = values_prime\n",
    "    \n",
    "print(values)\n"
   ]
  }
 ],
 "metadata": {
  "kernelspec": {
   "display_name": "Python 3",
   "language": "python",
   "name": "python3"
  },
  "language_info": {
   "codemirror_mode": {
    "name": "ipython",
    "version": 3
   },
   "file_extension": ".py",
   "mimetype": "text/x-python",
   "name": "python",
   "nbconvert_exporter": "python",
   "pygments_lexer": "ipython3",
   "version": "3.6.4"
  }
 },
 "nbformat": 4,
 "nbformat_minor": 2
}
